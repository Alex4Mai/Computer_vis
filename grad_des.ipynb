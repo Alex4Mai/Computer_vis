{
 "cells": [
  {
   "cell_type": "code",
   "execution_count": 1,
   "id": "f1c7ef2e",
   "metadata": {
    "ExecuteTime": {
     "end_time": "2023-03-25T17:10:19.136295Z",
     "start_time": "2023-03-25T17:10:18.127251Z"
    }
   },
   "outputs": [],
   "source": [
    "import numpy as np\n",
    "import yaml\n",
    "from matplotlib import pyplot as plt"
   ]
  },
  {
   "cell_type": "code",
   "execution_count": 15,
   "id": "c57a6133",
   "metadata": {
    "ExecuteTime": {
     "end_time": "2023-03-25T18:24:50.058174Z",
     "start_time": "2023-03-25T18:24:50.041279Z"
    }
   },
   "outputs": [
    {
     "name": "stdout",
     "output_type": "stream",
     "text": [
      "Prediction: [ 1.   2.   1.   0.  -0.5]\n",
      "Loss: 0.5\n"
     ]
    }
   ],
   "source": [
    "X = np.array([\n",
    "    [0, 1],\n",
    "    [1, 1],\n",
    "    [1, 0],\n",
    "    [-0.5, 0.5],\n",
    "    [0, -0.5]\n",
    "])\n",
    "\n",
    "X = np.hstack((X, np.ones((5, 1)))) \n",
    "\n",
    "\n",
    "y = np.array([1, 1, 1, -1, -1])\n",
    "\n",
    "theta0 = np.array([1.0, 1.0, 0.0])\n",
    "\n",
    "\n",
    "\n",
    "lr = 0.1\n",
    "\n",
    "def f(X, theta):\n",
    "    theta = np.asarray(theta)\n",
    "    return (X * theta).sum(axis = 1)\n",
    "\n",
    "\n",
    "def loss(X, y, theta):\n",
    "    theta = np.asarray(theta)\n",
    "    norm = (theta ** 2).sum()\n",
    "    deltas = y * f(X, theta)\n",
    "    return 0.1 * norm + np.mean(np.maximum(0, 1 - deltas))\n",
    "\n",
    "print(\"Prediction:\", f(X, theta0))\n",
    "print(\"Loss:\", loss(X, y, theta0))\n"
   ]
  },
  {
   "cell_type": "code",
   "execution_count": 26,
   "id": "98e75b2f",
   "metadata": {
    "ExecuteTime": {
     "end_time": "2023-03-25T18:26:23.714227Z",
     "start_time": "2023-03-25T18:26:23.696916Z"
    }
   },
   "outputs": [
    {
     "name": "stdout",
     "output_type": "stream",
     "text": [
      "Prediction: [ 0.9    1.85   0.9   -0.05  -0.525]\n",
      "Loss: 0.50575\n"
     ]
    }
   ],
   "source": [
    "theta = theta0\n",
    "for i in range(1000):\n",
    "    l = loss(X, y, theta)\n",
    "    theta = theta - lr * l\n",
    "    if np.linalg.norm(l) < 0.51:\n",
    "        break\n",
    "\n",
    "print(\"Prediction:\", f(X, theta))\n",
    "print(\"Loss:\", loss(X, y, theta))"
   ]
  },
  {
   "cell_type": "code",
   "execution_count": 19,
   "id": "f2fc8fc6",
   "metadata": {
    "ExecuteTime": {
     "end_time": "2023-03-25T18:25:15.067069Z",
     "start_time": "2023-03-25T18:25:15.054896Z"
    }
   },
   "outputs": [],
   "source": [
    "with open(\"submission.yaml\", \"w\") as fp:\n",
    "    yaml.safe_dump({\"tasks\": [{\"task1\": {\"answer\": theta.tolist() }}]}, fp)"
   ]
  },
  {
   "cell_type": "code",
   "execution_count": null,
   "id": "69263f69",
   "metadata": {},
   "outputs": [],
   "source": []
  }
 ],
 "metadata": {
  "kernelspec": {
   "display_name": "Python 3 (ipykernel)",
   "language": "python",
   "name": "python3"
  },
  "language_info": {
   "codemirror_mode": {
    "name": "ipython",
    "version": 3
   },
   "file_extension": ".py",
   "mimetype": "text/x-python",
   "name": "python",
   "nbconvert_exporter": "python",
   "pygments_lexer": "ipython3",
   "version": "3.9.5"
  }
 },
 "nbformat": 4,
 "nbformat_minor": 5
}
